{
  "metadata": {
    "kernelspec": {
      "name": "python",
      "display_name": "Python (Pyodide)",
      "language": "python"
    },
    "language_info": {
      "codemirror_mode": {
        "name": "python",
        "version": 3
      },
      "file_extension": ".py",
      "mimetype": "text/x-python",
      "name": "python",
      "nbconvert_exporter": "python",
      "pygments_lexer": "ipython3",
      "version": "3.8"
    }
  },
  "nbformat_minor": 4,
  "nbformat": 4,
  "cells": [
    {
      "cell_type": "markdown",
      "source": "# Cours #5: Intégration numérique",
      "metadata": {},
      "attachments": {}
    },
    {
      "cell_type": "code",
      "source": "# Imports\nimport numpy as np\nimport matplotlib.pyplot as plt\nimport pandas as pd\nfrom datetime import datetime\nfrom scipy.signal import butter, filtfilt\nfrom scipy.interpolate import UnivariateSpline",
      "metadata": {
        "trusted": true
      },
      "outputs": [],
      "execution_count": 62
    },
    {
      "cell_type": "markdown",
      "source": "Import des données de la montre durant un entraînement de course.",
      "metadata": {}
    },
    {
      "cell_type": "code",
      "source": "# Charger les données\ndataset = pd.read_csv(\"interval_training_data.csv\")\nvitesse_montre = np.array(dataset[\"extensions/speed\"])\ntimestamps = np.array(dataset[\"time\"])\n\n# Convertir les timestamps en secondes\ntemps = np.array([datetime.strptime(time, '%Y-%m-%dT%H:%M:%SZ').timestamp() for time in timestamps])\ntemps = temps - temps[0]",
      "metadata": {
        "trusted": true
      },
      "outputs": [],
      "execution_count": 64
    },
    {
      "cell_type": "markdown",
      "source": "On cherche à obtenir la distance parcourue à partir de la vitesse de course instantanée.",
      "metadata": {}
    },
    {
      "cell_type": "code",
      "source": "def integration_rectangle_avant(vitesse_montre):\n    return np.sum((vitesse_montre[:-1] * (temps[1:] - temps[:-1])))\n\ndef integration_rectangle_arriere(vitesse_montre):\n    return np.sum((vitesse_montre[1:] * (temps[1:] - temps[:-1])))\n                  \ndef integration_trapezoidale(vitesse_montre):\n    return np.sum((vitesse_montre[1:] + vitesse_montre[:-1]) / 2 * (temps[1:] - temps[:-1]))\n\nprint(f\"L'intégration rectangle avant estime un entraînement de {integration_rectangle_avant(vitesse_montre) / 1000} km\")\nprint(f\"L'intégration rectange arrière estime un entraînement de {integration_rectangle_arriere(vitesse_montre) / 1000} km\")\nprint(f\"L'intégration trapézoidale estime un entraînement de {integration_trapezoidale(vitesse_montre) / 1000} km\")\nprint(f\"La montre estime un entraînement de 6.366301806139554 km\")  # Tiré de différentiation_numérique.ipynb ",
      "metadata": {
        "trusted": true
      },
      "outputs": [
        {
          "name": "stdout",
          "text": "L'intégration rectangle avant estime un entraînement de 6.371655120000001 km\nL'intégration rectange arrière estime un entraînement de 6.371347640999999 km\nL'intégration trapézoidale estime un entraînement de 6.3715013805 km\nLa montre estime un entraînement de 6.366301806139554 km\n",
          "output_type": "stream"
        }
      ],
      "execution_count": 68
    },
    {
      "cell_type": "markdown",
      "source": "Attention: toutes les méthodes sont loin de la valeur donnée par la montre mais la mesure de la montre n'est pas très exacte.",
      "metadata": {}
    },
    {
      "cell_type": "code",
      "source": "",
      "metadata": {
        "trusted": true
      },
      "outputs": [],
      "execution_count": null
    }
  ]
}
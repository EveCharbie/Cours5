{
 "cells": [
  {
   "cell_type": "markdown",
   "metadata": {
    "slideshow": {
     "slide_type": "slide"
    }
   },
   "source": [
    "<img src=\"slides/Slide1.jpeg\">"
   ]
  },
  {
   "cell_type": "markdown",
   "metadata": {
    "slideshow": {
     "slide_type": "slide"
    }
   },
   "source": [
    "<img src=\"slides/Slide2.jpeg\">"
   ]
  },
  {
   "cell_type": "markdown",
   "metadata": {
    "slideshow": {
     "slide_type": "slide"
    }
   },
   "source": [
    "<img src=\"slides/Slide3.jpeg\">"
   ]
  },
  {
   "cell_type": "markdown",
   "metadata": {
    "slideshow": {
     "slide_type": "slide"
    }
   },
   "source": [
    "<img src=\"slides/Slide4.jpeg\">"
   ]
  },
  {
   "cell_type": "markdown",
   "metadata": {
    "slideshow": {
     "slide_type": "slide"
    }
   },
   "source": [
    "<img src=\"slides/Slide5.jpeg\">"
   ]
  },
  {
   "cell_type": "markdown",
   "metadata": {
    "slideshow": {
     "slide_type": "slide"
    }
   },
   "source": [
    "<img src=\"slides/Slide6.jpeg\">"
   ]
  },
  {
   "cell_type": "markdown",
   "metadata": {
    "slideshow": {
     "slide_type": "slide"
    }
   },
   "source": [
    "<img src=\"slides/Slide7.jpeg\">"
   ]
  },
  {
   "cell_type": "markdown",
   "metadata": {
    "slideshow": {
     "slide_type": "slide"
    }
   },
   "source": [
    "<img src=\"slides/Slide8.jpeg\">"
   ]
  },
  {
   "cell_type": "markdown",
   "metadata": {
    "slideshow": {
     "slide_type": "slide"
    }
   },
   "source": [
    "<img src=\"slides/Slide9.jpeg\">"
   ]
  },
  {
   "cell_type": "markdown",
   "metadata": {
    "slideshow": {
     "slide_type": "slide"
    }
   },
   "source": [
    "<img src=\"slides/Slide10.jpeg\">"
   ]
  },
  {
   "cell_type": "markdown",
   "metadata": {
    "slideshow": {
     "slide_type": "slide"
    }
   },
   "source": [
    "<img src=\"slides/Slide11.jpeg\">"
   ]
  },
  {
   "cell_type": "markdown",
   "metadata": {
    "slideshow": {
     "slide_type": "slide"
    }
   },
   "source": [
    "<img src=\"slides/Slide11.jpeg\">"
   ]
  },
  {
   "cell_type": "markdown",
   "metadata": {
    "slideshow": {
     "slide_type": "slide"
    }
   },
   "source": [
    "<img src=\"slides/Slide12.jpeg\">"
   ]
  },
  {
   "cell_type": "markdown",
   "metadata": {
    "slideshow": {
     "slide_type": "slide"
    }
   },
   "source": [
    "<img src=\"slides/Slide13.jpeg\">"
   ]
  },
  {
   "cell_type": "markdown",
   "metadata": {
    "slideshow": {
     "slide_type": "slide"
    }
   },
   "source": [
    "<img src=\"slides/Slide14.jpeg\">"
   ]
  },
  {
   "cell_type": "markdown",
   "metadata": {
    "slideshow": {
     "slide_type": "slide"
    }
   },
   "source": [
    "<img src=\"slides/Slide15.jpeg\">"
   ]
  },
  {
   "cell_type": "markdown",
   "metadata": {
    "slideshow": {
     "slide_type": "slide"
    }
   },
   "source": [
    "<img src=\"slides/Slide16.jpeg\">"
   ]
  },
  {
   "cell_type": "markdown",
   "metadata": {
    "slideshow": {
     "slide_type": "slide"
    }
   },
   "source": [
    "<img src=\"slides/Slide17.jpeg\">"
   ]
  },
  {
   "cell_type": "markdown",
   "metadata": {
    "slideshow": {
     "slide_type": "slide"
    }
   },
   "source": [
    "<img src=\"slides/Slide18.jpeg\">"
   ]
  },
  {
   "cell_type": "markdown",
   "metadata": {
    "slideshow": {
     "slide_type": "slide"
    }
   },
   "source": [
    "<img src=\"slides/Slide19.jpeg\">"
   ]
  },
  {
   "cell_type": "markdown",
   "metadata": {
    "slideshow": {
     "slide_type": "slide"
    }
   },
   "source": [
    "<img src=\"slides/Slide20.jpeg\">"
   ]
  },
  {
   "cell_type": "code",
   "execution_count": 16,
   "metadata": {
    "slideshow": {
     "slide_type": "-"
    }
   },
   "outputs": [
    {
     "ename": "NameError",
     "evalue": "name 'Callable' is not defined",
     "output_type": "error",
     "traceback": [
      "\u001b[0;31m---------------------------------------------------------------------------\u001b[0m",
      "\u001b[0;31mNameError\u001b[0m                                 Traceback (most recent call last)",
      "Cell \u001b[0;32mIn[16], line 1\u001b[0m\n\u001b[0;32m----> 1\u001b[0m \u001b[38;5;28;01mdef\u001b[39;00m \u001b[38;5;21mdifference_finie_avant\u001b[39m(t: np\u001b[38;5;241m.\u001b[39mndarray, x: np\u001b[38;5;241m.\u001b[39mndarray, f: \u001b[43mCallable\u001b[49m):\n\u001b[1;32m      3\u001b[0m     \u001b[38;5;28;01mreturn\u001b[39;00m\n",
      "\u001b[0;31mNameError\u001b[0m: name 'Callable' is not defined"
     ]
    }
   ],
   "source": [
    "def difference_finie_avant(t: np.ndarray, x: np.ndarray, f: Callable):\n",
    "    \n",
    "    return"
   ]
  },
  {
   "cell_type": "markdown",
   "metadata": {
    "slideshow": {
     "slide_type": "slide"
    }
   },
   "source": [
    "<img src=\"slides/Slide21.jpeg\">"
   ]
  },
  {
   "cell_type": "markdown",
   "metadata": {
    "slideshow": {
     "slide_type": "slide"
    }
   },
   "source": [
    "<img src=\"slides/Slide22.jpeg\">"
   ]
  },
  {
   "cell_type": "markdown",
   "metadata": {
    "slideshow": {
     "slide_type": "slide"
    }
   },
   "source": [
    "<img src=\"slides/Slide23.jpeg\">"
   ]
  },
  {
   "cell_type": "code",
   "execution_count": null,
   "metadata": {},
   "outputs": [],
   "source": [
    "def difference_finie_arriere(t: np.ndarray, x: np.ndarray, f: Callable):\n",
    "    \n",
    "    return"
   ]
  },
  {
   "cell_type": "markdown",
   "metadata": {},
   "source": [
    "<img src=\"slides/Slide24.jpeg\">"
   ]
  },
  {
   "cell_type": "markdown",
   "metadata": {},
   "source": [
    "<img src=\"slides/Slide25.jpeg\">"
   ]
  },
  {
   "cell_type": "code",
   "execution_count": null,
   "metadata": {},
   "outputs": [],
   "source": [
    "def difference_finie_centree(t: np.ndarray, x: np.ndarray, f: Callable):\n",
    "    \n",
    "    return"
   ]
  },
  {
   "cell_type": "markdown",
   "metadata": {
    "slideshow": {
     "slide_type": "slide"
    }
   },
   "source": [
    "<img src=\"slides/Slide26.jpeg\">"
   ]
  },
  {
   "cell_type": "markdown",
   "metadata": {
    "slideshow": {
     "slide_type": "slide"
    }
   },
   "source": [
    "<img src=\"slides/Slide27.jpeg\">"
   ]
  },
  {
   "cell_type": "markdown",
   "metadata": {
    "slideshow": {
     "slide_type": "slide"
    }
   },
   "source": [
    "<img src=\"slides/Slide28.jpeg\">"
   ]
  },
  {
   "cell_type": "markdown",
   "metadata": {
    "slideshow": {
     "slide_type": "slide"
    }
   },
   "source": [
    "<img src=\"slides/Slide29.jpeg\">"
   ]
  },
  {
   "cell_type": "markdown",
   "metadata": {
    "slideshow": {
     "slide_type": "slide"
    }
   },
   "source": [
    "<img src=\"slides/Slide30.jpeg\">"
   ]
  },
  {
   "cell_type": "markdown",
   "metadata": {
    "slideshow": {
     "slide_type": "slide"
    }
   },
   "source": [
    "<img src=\"slides/Slide31.jpeg\">"
   ]
  },
  {
   "cell_type": "markdown",
   "metadata": {
    "slideshow": {
     "slide_type": "slide"
    }
   },
   "source": [
    "<img src=\"slides/Slide32.jpeg\">"
   ]
  },
  {
   "cell_type": "markdown",
   "metadata": {
    "slideshow": {
     "slide_type": "slide"
    }
   },
   "source": [
    "<img src=\"slides/Slide33.jpeg\">"
   ]
  },
  {
   "cell_type": "markdown",
   "metadata": {
    "slideshow": {
     "slide_type": "slide"
    }
   },
   "source": [
    "<img src=\"slides/Slide34.jpeg\">"
   ]
  },
  {
   "cell_type": "markdown",
   "metadata": {
    "slideshow": {
     "slide_type": "slide"
    }
   },
   "source": [
    "<img src=\"slides/Slide35.jpeg\">"
   ]
  },
  {
   "cell_type": "markdown",
   "metadata": {
    "slideshow": {
     "slide_type": "slide"
    }
   },
   "source": [
    "<img src=\"slides/Slide36.jpeg\">"
   ]
  },
  {
   "cell_type": "markdown",
   "metadata": {
    "slideshow": {
     "slide_type": "slide"
    }
   },
   "source": [
    "<img src=\"slides/Slide37.jpeg\">"
   ]
  },
  {
   "cell_type": "markdown",
   "metadata": {
    "slideshow": {
     "slide_type": "slide"
    }
   },
   "source": [
    "<img src=\"slides/Slide38.jpeg\">"
   ]
  },
  {
   "cell_type": "markdown",
   "metadata": {
    "slideshow": {
     "slide_type": "slide"
    }
   },
   "source": [
    "<img src=\"slides/Slide39.jpeg\">"
   ]
  },
  {
   "cell_type": "markdown",
   "metadata": {
    "slideshow": {
     "slide_type": "slide"
    }
   },
   "source": [
    "<img src=\"slides/Slide40.jpeg\">"
   ]
  },
  {
   "cell_type": "markdown",
   "metadata": {
    "slideshow": {
     "slide_type": "slide"
    }
   },
   "source": [
    "## Import des librairies"
   ]
  },
  {
   "cell_type": "code",
   "execution_count": null,
   "metadata": {},
   "outputs": [],
   "source": [
    "import numpy as np\n",
    "import matplotlib.pyplot as plt\n",
    "import pandas as pd\n",
    "from datetime import datetime\n",
    "from scipy.signal import butter, filtfilt\n",
    "from scipy.interpolate import UnivariateSpline"
   ]
  },
  {
   "cell_type": "markdown",
   "metadata": {
    "slideshow": {
     "slide_type": "slide"
    }
   },
   "source": [
    "## Import des données de la montre durant un entraînement de course."
   ]
  },
  {
   "cell_type": "code",
   "execution_count": null,
   "metadata": {},
   "outputs": [],
   "source": [
    "# Charger les données\n",
    "dataset = pd.read_csv(\"interval_training_data.csv\")\n",
    "longitude = np.array(dataset[\"_lon\"]) * 2*np.pi/360\n",
    "latitude = np.array(dataset[\"_lat\"]) * 2*np.pi/360\n",
    "elevation_montre = np.array(dataset[\"ele\"])\n",
    "timestamps = np.array(dataset[\"time\"])\n",
    "\n",
    "# Convertir les timestamps en secondes\n",
    "temps = np.array([datetime.strptime(time, '%Y-%m-%dT%H:%M:%SZ').timestamp() for time in timestamps])\n",
    "temps = temps - temps[0]\n",
    "\n",
    "# Convertir les coordonnées en mètres\n",
    "R = 6367281 + np.mean(elevation_montre)  # Rayon de la Terre à Montréal en mètres\n",
    "\n",
    "position_x = R * np.cos(latitude)\n",
    "position_y = R * np.cos(longitude)\n",
    "position_x = position_x - position_x[0]\n",
    "position_y = position_y - position_y[0]\n",
    "distance_parcourue = np.linalg.norm(np.array([position_x[1:] - position_x[:-1], position_y[1:] - position_y[:-1]]), axis=0)"
   ]
  },
  {
   "cell_type": "code",
   "execution_count": null,
   "metadata": {},
   "outputs": [],
   "source": [
    "# Afficher les données pour vérifier que tout semble correct\n",
    "fig, axs = plt.subplots(1, 2)\n",
    "scat = axs[0].scatter(position_x, position_y, c=temps)\n",
    "axs[0].set_xlabel(\"Position X [m]\")\n",
    "axs[0].set_ylabel(\"Position Y [m]\")\n",
    "axs[0].set_title(\"Trajet\")\n",
    "axs[1].scatter(temps, elevation_montre, c=temps)\n",
    "# axs[1].plot(temps[1:], distance_parcourue, 'k')\n",
    "axs[1].set_xlabel(\"Temps [s]\")\n",
    "axs[1].set_ylabel(\"Élévation [m]\")\n",
    "fig.colorbar(scat, ax=axs[0], orientation='vertical')\n",
    "axs[0].set_aspect('equal', 'box')\n",
    "plt.tight_layout()\n",
    "plt.show()\n",
    "print(f\"Distance totale: {np.sum(distance_parcourue)/1000} km\")"
   ]
  },
  {
   "cell_type": "markdown",
   "metadata": {
    "slideshow": {
     "slide_type": "slide"
    }
   },
   "source": [
    "## On cherche à obtenir la vitesse de course à partir de la position en utilisant la différence finie."
   ]
  },
  {
   "cell_type": "code",
   "execution_count": null,
   "metadata": {
    "slideshow": {
     "slide_type": "-"
    }
   },
   "outputs": [],
   "source": [
    "def difference_finie(position_x, position_y, temps):\n",
    "    \n",
    "    # Différence finie avant et arrière pour la vitesse\n",
    "    distance_parcourue = np.linalg.norm(np.array([position_x[1:] - position_x[:-1], position_y[1:] - position_y[:-1]]), axis=0)\n",
    "    vitesse_1point = distance_parcourue / (temps[1:] - temps[:-1])\n",
    "\n",
    "    # Différence finie centrée pour la vitesse\n",
    "    distance_parcourue_2points = np.linalg.norm(np.array([position_x[2:] - position_x[:-2], position_y[2:] - position_y[:-2]]), axis=0)\n",
    "    vitesse_2points = distance_parcourue_2points / (temps[2:] - temps[:-2])\n",
    "\n",
    "    # Différence finie pour l'accélération\n",
    "    acceleration = (distance_parcourue[1:] - distance_parcourue[:-1]) / (temps[2:] - temps[:-2])\n",
    "    \n",
    "    return vitesse_1point, vitesse_2points, acceleration\n",
    "\n",
    "vitesse_1point, vitesse_2points, acceleration = difference_finie(position_x, position_y, temps)\n",
    "\n",
    "# Afficher les vitesses et accélération\n",
    "plt.figure()\n",
    "plt.plot(temps[1:] / 60, vitesse_1point * 3600/1000, 'r', label=\"Différence finie avant [km/h]\")\n",
    "plt.plot(temps[:-1] / 60, vitesse_1point * 3600/1000, 'g', label=\"Différence finie arrière [km/h]\")\n",
    "plt.plot(temps[1:-1] / 60, vitesse_2points * 3600/1000, 'b', label=\"Différence finie centrée [km/h]\")\n",
    "plt.plot(temps[1:-1] / 60, acceleration, 'k', label=r\"Diffécence finie seconde centrée [$m/s^2$]\")\n",
    "plt.legend()\n",
    "plt.xlabel(\"Temps [min]\")\n",
    "plt.ylabel(\"Vitesse [km/h] / Accélération [$m/s^2$]\")\n",
    "plt.show()"
   ]
  },
  {
   "cell_type": "markdown",
   "metadata": {},
   "source": [
    "### On voit que le plan d'entraînement a bien été respecté (échauffement, intervalles: 1min marche + 1min course + 30s sprint, cool down). On voit aussi qu'au sein des blocs de marche il y a de la récupération et qu'au sein des blocs de course il y a de la fatigue."
   ]
  },
  {
   "cell_type": "markdown",
   "metadata": {
    "slideshow": {
     "slide_type": "-"
    }
   },
   "source": [
    "### Si on zoom, on voit que la différence finie centrée agit un peu comme un filtre."
   ]
  },
  {
   "cell_type": "code",
   "execution_count": null,
   "metadata": {
    "slideshow": {
     "slide_type": "-"
    }
   },
   "outputs": [],
   "source": [
    "plt.figure()\n",
    "plt.plot(temps[1:] / 60, vitesse_1point * 3600/1000, 'r', label=\"Différence finie avant [km/h]\")\n",
    "plt.plot(temps[:-1] / 60, vitesse_1point * 3600/1000, 'g', label=\"Différence finie arrière [km/h]\")\n",
    "plt.plot(temps[1:-1] / 60, vitesse_2points * 3600/1000, 'b', label=\"Différence finie centrée [km/h]\")\n",
    "plt.plot(temps[1:-1] / 60, acceleration, 'k', label=r\"Diffécence finie seconde centrée [$m/s^2$]\")\n",
    "plt.legend()\n",
    "plt.xlabel(\"Temps [min]\")\n",
    "plt.ylabel(\"Vitesse [km/h] / Accélération [$m/s^2$]\")\n",
    "plt.xlim(13.7, 15)\n",
    "plt.ylim(4, 20)\n",
    "plt.show()"
   ]
  },
  {
   "cell_type": "markdown",
   "metadata": {},
   "source": [
    "### On pourrait également préférer filtrer les données d'abbord. Cela pourrait être utile par exemple si on veut faire une dérivée seconde."
   ]
  },
  {
   "cell_type": "code",
   "execution_count": null,
   "metadata": {
    "slideshow": {
     "slide_type": "-"
    }
   },
   "outputs": [],
   "source": [
    "# Filtrer les données avec un filtre passe bas\n",
    "b, a = butter(8, 0.125, btype='lowpass')\n",
    "position_x_filtered = filtfilt(b, a, position_x, padlen=150)\n",
    "position_y_filtered = filtfilt(b, a, position_y, padlen=150)\n",
    "vitesse_1point_filtered, vitesse_2points_filtered, acceleration_filtered = difference_finie(position_x_filtered, position_y_filtered, temps)\n",
    "\n",
    "# Afficher les vitesses et accélération filtrées\n",
    "plt.figure()\n",
    "plt.plot(temps[1:] / 60, vitesse_1point_filtered * 3600/1000, 'r', label=\"Différence finie avant [km/h]\")\n",
    "plt.plot(temps[:-1] / 60, vitesse_1point_filtered * 3600/1000, 'g', label=\"Différence finie arrière [km/h]\")\n",
    "plt.plot(temps[1:-1] / 60, vitesse_2points_filtered * 3600/1000, 'b', label=\"Différence finie centrée [km/h]\")\n",
    "plt.plot(temps[1:-1] / 60, acceleration_filtered, 'k', label=\"Diffécence finie seconde centrée [m/s]\")\n",
    "plt.legend()\n",
    "plt.show()"
   ]
  },
  {
   "cell_type": "code",
   "execution_count": null,
   "metadata": {
    "slideshow": {
     "slide_type": "slide"
    }
   },
   "outputs": [],
   "source": [
    "### Utilisons maintenant plutôt la dérivée de polynômes pour obtenir la vitesse."
   ]
  },
  {
   "cell_type": "code",
   "execution_count": null,
   "metadata": {
    "slideshow": {
     "slide_type": "-"
    }
   },
   "outputs": [],
   "source": [
    "def derivee_polynome(position_x, position_y, temps):\n",
    "    # Fit spline de degré 5\n",
    "    spline_x = UnivariateSpline(temps, position_x, k=5)\n",
    "    spline_y = UnivariateSpline(temps, position_y, k=5)\n",
    "    # Calculer la dérivée du polynome\n",
    "    vitesse_x = spline_x.derivative()(temps)\n",
    "    vitesse_y = spline_y.derivative()(temps)\n",
    "    vitesse = np.linalg.norm(np.array([vitesse_x, vitesse_y]), axis=0)\n",
    "    acceleration_x = spline_x.derivative(2)(temps)\n",
    "    acceleration_y = spline_y.derivative(2)(temps)\n",
    "    acceleration = np.linalg.norm(np.array([acceleration_x, acceleration_y]), axis=0)\n",
    "    return vitesse, acceleration, spline_x, spline_y\n",
    "\n",
    "vitesse, acceleration, spline_x, spline_y = derivee_polynome(position_x, position_y, temps)\n",
    "\n",
    "# Afficher les vitesses et accélération\n",
    "fig, axs = plt.subplots(2, 1)\n",
    "axs[0].plot(temps / 60, position_x, '.g', label=\"Position X [m]\")\n",
    "axs[0].plot(temps / 60, position_y, '.b', label=\"Position Y [m]\")\n",
    "axs[0].plot(temps / 60, spline_x(temps), 'r', label=\"Polynôme X\")\n",
    "axs[0].plot(temps / 60, spline_y(temps), 'k', label=\"Polynôme Y\")\n",
    "axs[1].plot(temps / 60, vitesse * 3600/1000, 'r', label=\"Dérivée polynôme [km/h]\")\n",
    "axs[1].plot(temps / 60, acceleration, 'k', label=r\"Dérivée polynôme 2e ordre [$m/s^2$]\")\n",
    "axs[1].legend()\n",
    "axs[0].set_xlabel(\"Temps [min]\")\n",
    "axs[1].set_xlabel(\"Temps [min]\")\n",
    "axs[0].set_ylabel(\"Position [m]\")\n",
    "axs[1].set_ylabel(\"Vitesse [km/h] / Accélération [$m/s^2$]\")\n",
    "plt.show()"
   ]
  },
  {
   "cell_type": "markdown",
   "metadata": {},
   "source": [
    "### On obtient une vitesse beaucoup plus lisse, mais on s'éloigne des données réelles."
   ]
  },
  {
   "cell_type": "code",
   "execution_count": null,
   "metadata": {
    "slideshow": {
     "slide_type": "slide"
    }
   },
   "outputs": [],
   "source": [
    "### Comparons maintenant les méthodes entre elles."
   ]
  },
  {
   "cell_type": "code",
   "execution_count": null,
   "metadata": {
    "slideshow": {
     "slide_type": "-"
    }
   },
   "outputs": [],
   "source": [
    "vitesse_montre = dataset['extensions/speed']\n",
    "\n",
    "plt.figure()\n",
    "plt.plot(temps[1:-1] / 60, vitesse_2points * 3600/1000, 'b', label=\"Différence finie centrée [km/h]\")\n",
    "plt.plot(temps[1:-1] / 60, vitesse_2points_filtered * 3600/1000, 'g', label=\"Différence finie centrée filtrée [km/h]\")\n",
    "plt.plot(temps / 60, vitesse * 3600/1000, 'r', label=\"Dérivée polynôme [km/h]\")\n",
    "plt.plot(temps / 60, vitesse_montre * 3600/1000, 'k', label=\"Vitesse montre [km/h]\")\n",
    "plt.legend()\n",
    "plt.xlabel(\"Temps [min]\")\n",
    "plt.ylabel(\"Vitesse [km/h] / Accélération [$m/s^2$]\")\n",
    "plt.xlim(13.7, 15)\n",
    "plt.ylim(3, 18)\n",
    "plt.show()"
   ]
  },
  {
   "cell_type": "markdown",
   "metadata": {},
   "source": [
    "### On voit que La différence finie centrée est la plus proche des données réelles, mais que la dérivée de polynôme est beaucoup plus smooth. Il faut donc choisir la méthode approprié en fonction de nos besoins. Malheureusement, on remarque aussi que notre méthode semble décallée par rapport aux données de la montre."
   ]
  },
  {
   "cell_type": "markdown",
   "metadata": {
    "slideshow": {
     "slide_type": "slide"
    }
   },
   "source": [
    "# Bonus\n",
    "### Ici, on a considéré qu'on pouvait négliger la courbure de la Terre, mais ce n'est pas le cas. Voici la façon de faire pour les intéressés."
   ]
  },
  {
   "cell_type": "code",
   "execution_count": null,
   "metadata": {},
   "outputs": [],
   "source": [
    "def convertir_longitude_latitude_en_distance(latitude, longitude):\n",
    "    \n",
    "    # Calculer la distance parcourue entre chaque poin de donnée\n",
    "    dlat_1point = latitude[1:] - latitude[:-1]\n",
    "    dlon_1point = longitude[1:] - longitude[:-1]\n",
    "    \n",
    "    # Formule de Haversine pour la différence entre deux point consécutifs\n",
    "    a_1point = np.sin(dlat_1point / 2)**2 + np.cos(latitude[:-1]) * np.cos(latitude[1:]) * np.sin(dlon_1point / 2)**2\n",
    "    c_1point = 2 * np.arctan2(np.sqrt(a_1point), np.sqrt(1 - a_1point))\n",
    "    distance_parcourue_1point = R * c_1point\n",
    "    \n",
    "    # Formule de Haversine pour la différence entre deux point par bonds de 2\n",
    "    dlat_2points = latitude[2:] - latitude[:-2]\n",
    "    dlon_2points = longitude[2:] - longitude[:-2]\n",
    "    a_2points = np.sin(dlat_2points / 2)**2 + np.cos(latitude[:-2]) * np.cos(latitude[2:]) * np.sin(dlon_2points / 2)**2\n",
    "    c_2points = 2 * np.arctan2(np.sqrt(a_2points), np.sqrt(1 - a_2points))\n",
    "    distance_parcourue_2points = R * c_2points\n",
    "    \n",
    "    return distance_parcourue_1point, distance_parcourue_2points\n",
    "\n",
    "distance_parcourue_1point, distance_parcourue_2points = convertir_longitude_latitude_en_distance(latitude, longitude)\n",
    "vitesse_1point_courbure = distance_parcourue_1point / (temps[1:] - temps[:-1])\n",
    "vitesse_centree_courbure = distance_parcourue_2points / (temps[2:] - temps[:-2])"
   ]
  },
  {
   "cell_type": "code",
   "execution_count": null,
   "metadata": {},
   "outputs": [],
   "source": [
    "plt.figure()\n",
    "# plt.plot(temps[1:] / 60, vitesse_1point_courbure * 3600/1000, 'r', label=\"Différence finie avant ajustée [km/h]\")\n",
    "plt.plot(temps[1:-1] / 60, vitesse_centree_courbure * 3600/1000, 'b', label=\"Différence finie centrée ajustée [km/h]\")\n",
    "plt.plot(temps / 60, vitesse_montre * 3600/1000, '--k', label=\"Vitesse montre [km/h]\")\n",
    "plt.legend()\n",
    "plt.xlabel(\"Temps [min]\")\n",
    "plt.ylabel(\"Vitesse [km/h] / Accélération [$m/s^2$]\")\n",
    "plt.xlim(13.7, 15)\n",
    "plt.ylim(3, 18)\n",
    "plt.show()"
   ]
  },
  {
   "cell_type": "markdown",
   "metadata": {
    "slideshow": {
     "slide_type": "slide"
    }
   },
   "source": [
    "<img src=\"slides/Slide41.jpeg\">"
   ]
  },
  {
   "cell_type": "markdown",
   "metadata": {
    "slideshow": {
     "slide_type": "slide"
    }
   },
   "source": [
    "<img src=\"slides/Slide42.jpeg\">"
   ]
  },
  {
   "cell_type": "markdown",
   "metadata": {
    "slideshow": {
     "slide_type": "slide"
    }
   },
   "source": [
    "<img src=\"slides/Slide43.jpeg\">"
   ]
  },
  {
   "cell_type": "markdown",
   "metadata": {
    "slideshow": {
     "slide_type": "slide"
    }
   },
   "source": [
    "<img src=\"slides/Slide44.jpeg\">"
   ]
  },
  {
   "cell_type": "markdown",
   "metadata": {
    "slideshow": {
     "slide_type": "slide"
    }
   },
   "source": [
    "<img src=\"slides/Slide45.jpeg\">"
   ]
  },
  {
   "cell_type": "markdown",
   "metadata": {
    "slideshow": {
     "slide_type": "slide"
    }
   },
   "source": [
    "<img src=\"slides/Slide46.jpeg\">"
   ]
  },
  {
   "cell_type": "markdown",
   "metadata": {
    "slideshow": {
     "slide_type": "slide"
    }
   },
   "source": [
    "<img src=\"slides/Slide48.jpeg\">"
   ]
  },
  {
   "cell_type": "code",
   "execution_count": null,
   "metadata": {},
   "outputs": [],
   "source": []
  },
  {
   "cell_type": "code",
   "execution_count": null,
   "metadata": {},
   "outputs": [],
   "source": []
  }
 ],
 "metadata": {
  "celltoolbar": "Slideshow",
  "kernelspec": {
   "display_name": "Python 3 (ipykernel)",
   "language": "python",
   "name": "python3"
  },
  "language_info": {
   "codemirror_mode": {
    "name": "ipython",
    "version": 3
   },
   "file_extension": ".py",
   "mimetype": "text/x-python",
   "name": "python",
   "nbconvert_exporter": "python",
   "pygments_lexer": "ipython3",
   "version": "3.12.4"
  },
  "livereveal": {
   "autolaunch": true,
   "scroll": true
  },
  "rise": {
   "transition": "None"
  }
 },
 "nbformat": 4,
 "nbformat_minor": 2
}
